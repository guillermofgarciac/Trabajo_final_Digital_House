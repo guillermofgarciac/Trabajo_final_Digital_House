{
 "cells": [
  {
   "cell_type": "code",
   "execution_count": 538,
   "metadata": {},
   "outputs": [],
   "source": [
    "import pandas as pd"
   ]
  },
  {
   "cell_type": "code",
   "execution_count": 539,
   "metadata": {},
   "outputs": [],
   "source": [
    "cases = pd.read_csv(\"cases_limpio.csv\")\n",
    "covid_data = pd.read_csv(\"owid-covid-data.csv\")\n",
    "datos_muertes = pd.read_csv(\"muerte_limpio.csv\")"
   ]
  },
  {
   "cell_type": "code",
   "execution_count": 540,
   "metadata": {},
   "outputs": [],
   "source": [
    "import numpy as np\n",
    "import matplotlib as mpl\n",
    "import matplotlib.pyplot as plt\n",
    "import matplotlib.dates as mdates\n",
    "import matplotlib.cm as cm\n",
    "import matplotlib.colors as colors\n",
    "from folium import (plugins, FeatureGroup, Map, Circle, Marker,\n",
    "                    LayerControl, Popup, CircleMarker, Vega)\n",
    "from tslearn.clustering import TimeSeriesKMeans\n",
    "\n",
    "import seaborn as sns\n",
    "%matplotlib inline\n",
    "\n",
    "import statsmodels.api as sm\n",
    "import statsmodels.formula.api as smf\n",
    "import statsmodels.tsa.api as smt\n",
    "\n",
    "from scipy import stats\n",
    "from statistics import mode\n",
    "\n",
    "from sklearn.model_selection import train_test_split\n",
    "\n",
    "from statsmodels.tsa.stattools import adfuller\n",
    "from statsmodels.tsa.stattools import acf, pacf\n",
    "from statsmodels.graphics.tsaplots import plot_acf, plot_pacf\n",
    "from statsmodels.tsa.arima_model import ARIMA\n"
   ]
  },
  {
   "cell_type": "code",
   "execution_count": 541,
   "metadata": {},
   "outputs": [],
   "source": [
    "datos_muertes.set_index([\"Pais\"],drop=True,inplace=True)"
   ]
  },
  {
   "cell_type": "code",
   "execution_count": 542,
   "metadata": {},
   "outputs": [],
   "source": [
    "paises = [\"Italy\",\"Germany\",\"Brazil\",\"United States\"]"
   ]
  },
  {
   "cell_type": "code",
   "execution_count": 543,
   "metadata": {},
   "outputs": [],
   "source": [
    "datos_interes = datos_muertes.loc[paises]"
   ]
  },
  {
   "cell_type": "code",
   "execution_count": 544,
   "metadata": {},
   "outputs": [
    {
     "data": {
      "text/html": [
       "<div>\n",
       "<style scoped>\n",
       "    .dataframe tbody tr th:only-of-type {\n",
       "        vertical-align: middle;\n",
       "    }\n",
       "\n",
       "    .dataframe tbody tr th {\n",
       "        vertical-align: top;\n",
       "    }\n",
       "\n",
       "    .dataframe thead th {\n",
       "        text-align: right;\n",
       "    }\n",
       "</style>\n",
       "<table border=\"1\" class=\"dataframe\">\n",
       "  <thead>\n",
       "    <tr style=\"text-align: right;\">\n",
       "      <th></th>\n",
       "      <th>1/22/2020</th>\n",
       "      <th>1/23/2020</th>\n",
       "      <th>1/24/2020</th>\n",
       "      <th>1/25/2020</th>\n",
       "      <th>1/26/2020</th>\n",
       "      <th>1/27/2020</th>\n",
       "      <th>1/28/2020</th>\n",
       "      <th>1/29/2020</th>\n",
       "      <th>1/30/2020</th>\n",
       "      <th>1/31/2020</th>\n",
       "      <th>...</th>\n",
       "      <th>2/26/2021</th>\n",
       "      <th>2/27/2021</th>\n",
       "      <th>2/28/2021</th>\n",
       "      <th>3/1/2021</th>\n",
       "      <th>3/2/2021</th>\n",
       "      <th>3/3/2021</th>\n",
       "      <th>3/4/2021</th>\n",
       "      <th>3/5/2021</th>\n",
       "      <th>3/6/2021</th>\n",
       "      <th>3/7/2021</th>\n",
       "    </tr>\n",
       "    <tr>\n",
       "      <th>Pais</th>\n",
       "      <th></th>\n",
       "      <th></th>\n",
       "      <th></th>\n",
       "      <th></th>\n",
       "      <th></th>\n",
       "      <th></th>\n",
       "      <th></th>\n",
       "      <th></th>\n",
       "      <th></th>\n",
       "      <th></th>\n",
       "      <th></th>\n",
       "      <th></th>\n",
       "      <th></th>\n",
       "      <th></th>\n",
       "      <th></th>\n",
       "      <th></th>\n",
       "      <th></th>\n",
       "      <th></th>\n",
       "      <th></th>\n",
       "      <th></th>\n",
       "      <th></th>\n",
       "    </tr>\n",
       "  </thead>\n",
       "  <tbody>\n",
       "    <tr>\n",
       "      <th>Italy</th>\n",
       "      <td>0</td>\n",
       "      <td>0</td>\n",
       "      <td>0</td>\n",
       "      <td>0</td>\n",
       "      <td>0</td>\n",
       "      <td>0</td>\n",
       "      <td>0</td>\n",
       "      <td>0</td>\n",
       "      <td>0</td>\n",
       "      <td>0</td>\n",
       "      <td>...</td>\n",
       "      <td>97227</td>\n",
       "      <td>97507</td>\n",
       "      <td>97699</td>\n",
       "      <td>97945</td>\n",
       "      <td>98288</td>\n",
       "      <td>98635</td>\n",
       "      <td>98974</td>\n",
       "      <td>99271</td>\n",
       "      <td>99578</td>\n",
       "      <td>99785</td>\n",
       "    </tr>\n",
       "    <tr>\n",
       "      <th>Germany</th>\n",
       "      <td>0</td>\n",
       "      <td>0</td>\n",
       "      <td>0</td>\n",
       "      <td>0</td>\n",
       "      <td>0</td>\n",
       "      <td>0</td>\n",
       "      <td>0</td>\n",
       "      <td>0</td>\n",
       "      <td>0</td>\n",
       "      <td>0</td>\n",
       "      <td>...</td>\n",
       "      <td>69939</td>\n",
       "      <td>70092</td>\n",
       "      <td>70152</td>\n",
       "      <td>70514</td>\n",
       "      <td>70926</td>\n",
       "      <td>71285</td>\n",
       "      <td>71554</td>\n",
       "      <td>71852</td>\n",
       "      <td>71951</td>\n",
       "      <td>71984</td>\n",
       "    </tr>\n",
       "    <tr>\n",
       "      <th>Brazil</th>\n",
       "      <td>0</td>\n",
       "      <td>0</td>\n",
       "      <td>0</td>\n",
       "      <td>0</td>\n",
       "      <td>0</td>\n",
       "      <td>0</td>\n",
       "      <td>0</td>\n",
       "      <td>0</td>\n",
       "      <td>0</td>\n",
       "      <td>0</td>\n",
       "      <td>...</td>\n",
       "      <td>252835</td>\n",
       "      <td>254221</td>\n",
       "      <td>254942</td>\n",
       "      <td>255720</td>\n",
       "      <td>257361</td>\n",
       "      <td>259271</td>\n",
       "      <td>260970</td>\n",
       "      <td>262770</td>\n",
       "      <td>264325</td>\n",
       "      <td>265411</td>\n",
       "    </tr>\n",
       "    <tr>\n",
       "      <th>United States</th>\n",
       "      <td>0</td>\n",
       "      <td>0</td>\n",
       "      <td>0</td>\n",
       "      <td>0</td>\n",
       "      <td>0</td>\n",
       "      <td>0</td>\n",
       "      <td>0</td>\n",
       "      <td>0</td>\n",
       "      <td>0</td>\n",
       "      <td>0</td>\n",
       "      <td>...</td>\n",
       "      <td>510764</td>\n",
       "      <td>512252</td>\n",
       "      <td>513291</td>\n",
       "      <td>514810</td>\n",
       "      <td>516737</td>\n",
       "      <td>519205</td>\n",
       "      <td>521119</td>\n",
       "      <td>522877</td>\n",
       "      <td>524362</td>\n",
       "      <td>525031</td>\n",
       "    </tr>\n",
       "  </tbody>\n",
       "</table>\n",
       "<p>4 rows × 411 columns</p>\n",
       "</div>"
      ],
      "text/plain": [
       "               1/22/2020  1/23/2020  1/24/2020  1/25/2020  1/26/2020  \\\n",
       "Pais                                                                   \n",
       "Italy                  0          0          0          0          0   \n",
       "Germany                0          0          0          0          0   \n",
       "Brazil                 0          0          0          0          0   \n",
       "United States          0          0          0          0          0   \n",
       "\n",
       "               1/27/2020  1/28/2020  1/29/2020  1/30/2020  1/31/2020  ...  \\\n",
       "Pais                                                                  ...   \n",
       "Italy                  0          0          0          0          0  ...   \n",
       "Germany                0          0          0          0          0  ...   \n",
       "Brazil                 0          0          0          0          0  ...   \n",
       "United States          0          0          0          0          0  ...   \n",
       "\n",
       "               2/26/2021  2/27/2021  2/28/2021  3/1/2021  3/2/2021  3/3/2021  \\\n",
       "Pais                                                                           \n",
       "Italy              97227      97507      97699     97945     98288     98635   \n",
       "Germany            69939      70092      70152     70514     70926     71285   \n",
       "Brazil            252835     254221     254942    255720    257361    259271   \n",
       "United States     510764     512252     513291    514810    516737    519205   \n",
       "\n",
       "               3/4/2021  3/5/2021  3/6/2021  3/7/2021  \n",
       "Pais                                                   \n",
       "Italy             98974     99271     99578     99785  \n",
       "Germany           71554     71852     71951     71984  \n",
       "Brazil           260970    262770    264325    265411  \n",
       "United States    521119    522877    524362    525031  \n",
       "\n",
       "[4 rows x 411 columns]"
      ]
     },
     "execution_count": 544,
     "metadata": {},
     "output_type": "execute_result"
    }
   ],
   "source": [
    "datos_interes"
   ]
  },
  {
   "cell_type": "markdown",
   "metadata": {},
   "source": [
    "## Seleccionamos paises que consideramos relevantes del dataset para analizar "
   ]
  },
  {
   "cell_type": "code",
   "execution_count": 545,
   "metadata": {},
   "outputs": [],
   "source": [
    "datos_muertes.columns = pd.to_datetime(datos_muertes.columns)"
   ]
  },
  {
   "cell_type": "code",
   "execution_count": 546,
   "metadata": {},
   "outputs": [
    {
     "data": {
      "image/png": "[encoded data removed]",
      "text/plain": [
       "<Figure size 720x432 with 1 Axes>"
      ]
     },
     "metadata": {
      "needs_background": "light"
     },
     "output_type": "display_data"
    }
   ],
   "source": [
    "pd.options.plotting.matplotlib.register_converters = True \n",
    "delay_days = 35\n",
    "colors = ['red', 'darkblue', 'green','blue']\n",
    "fig, ax2 = plt.subplots()\n",
    "for country, col in zip(paises, colors):\n",
    "    datos_muertes.loc[country][delay_days:].rolling(7).mean().fillna(\n",
    "        0).plot(kind='line',\n",
    "                linewidth=2.5,\n",
    "                label=country,\n",
    "                figsize=(10, 6),\n",
    "                color=col, ax=ax2)\n",
    "ax2.set_title('Evolución de muertes por covid\\n', fontsize=18, loc='left')\n",
    "ax2.spines['top'].set_visible(False)\n",
    "ax2.spines['right'].set_visible(False)\n",
    "for line, name, sett in zip(ax2.lines, paises, [0.07, 0, 0.0,0.0,0.0]):\n",
    "    y = line.get_ydata()[-1]\n",
    "    ax2.annotate(name,\n",
    "                 xy=(1, y + sett),\n",
    "                 xytext=(6, 0),\n",
    "                 color=line.get_color(),\n",
    "                 xycoords=ax2.get_yaxis_transform(),\n",
    "                 textcoords=\"offset points\",\n",
    "                 size=18,\n",
    "                 va=\"center\")"
   ]
  },
  {
   "cell_type": "code",
   "execution_count": null,
   "metadata": {},
   "outputs": [],
   "source": []
  },
  {
   "cell_type": "code",
   "execution_count": 547,
   "metadata": {},
   "outputs": [
    {
     "data": {
      "text/plain": [
       "Pais\n",
       "Afghanistan    2449\n",
       "Albania        1939\n",
       "Algeria        3013\n",
       "Andorra         112\n",
       "Angola          514\n",
       "               ... \n",
       "Venezuela      1384\n",
       "Vietnam          35\n",
       "Yemen           651\n",
       "Zambia         1124\n",
       "Zimbabwe       1485\n",
       "Name: 2021-03-07 00:00:00, Length: 208, dtype: int64"
      ]
     },
     "execution_count": 547,
     "metadata": {},
     "output_type": "execute_result"
    }
   ],
   "source": [
    "datos_muertes[last_day]"
   ]
  },
  {
   "cell_type": "code",
   "execution_count": 548,
   "metadata": {},
   "outputs": [
    {
     "data": {
      "text/plain": [
       "Index(['iso_code', 'continent', 'location', 'date', 'total_cases', 'new_cases',\n",
       "       'new_cases_smoothed', 'total_deaths', 'new_deaths',\n",
       "       'new_deaths_smoothed', 'total_cases_per_million',\n",
       "       'new_cases_per_million', 'new_cases_smoothed_per_million',\n",
       "       'total_deaths_per_million', 'new_deaths_per_million',\n",
       "       'new_deaths_smoothed_per_million', 'reproduction_rate', 'icu_patients',\n",
       "       'icu_patients_per_million', 'hosp_patients',\n",
       "       'hosp_patients_per_million', 'weekly_icu_admissions',\n",
       "       'weekly_icu_admissions_per_million', 'weekly_hosp_admissions',\n",
       "       'weekly_hosp_admissions_per_million', 'new_tests', 'total_tests',\n",
       "       'total_tests_per_thousand', 'new_tests_per_thousand',\n",
       "       'new_tests_smoothed', 'new_tests_smoothed_per_thousand',\n",
       "       'positive_rate', 'tests_per_case', 'tests_units', 'total_vaccinations',\n",
       "       'people_vaccinated', 'people_fully_vaccinated', 'new_vaccinations',\n",
       "       'new_vaccinations_smoothed', 'total_vaccinations_per_hundred',\n",
       "       'people_vaccinated_per_hundred', 'people_fully_vaccinated_per_hundred',\n",
       "       'new_vaccinations_smoothed_per_million', 'stringency_index',\n",
       "       'population', 'population_density', 'median_age', 'aged_65_older',\n",
       "       'aged_70_older', 'gdp_per_capita', 'extreme_poverty',\n",
       "       'cardiovasc_death_rate', 'diabetes_prevalence', 'female_smokers',\n",
       "       'male_smokers', 'handwashing_facilities', 'hospital_beds_per_thousand',\n",
       "       'life_expectancy', 'human_development_index'],\n",
       "      dtype='object')"
      ]
     },
     "execution_count": 548,
     "metadata": {},
     "output_type": "execute_result"
    }
   ],
   "source": [
    "covid_data.columns"
   ]
  },
  {
   "cell_type": "code",
   "execution_count": 549,
   "metadata": {},
   "outputs": [],
   "source": [
    "covid_data = pd.read_csv(\"muertes_mill.csv\",sep=\";\")"
   ]
  },
  {
   "cell_type": "code",
   "execution_count": 550,
   "metadata": {},
   "outputs": [],
   "source": [
    "covid_data.set_index(\"Pais\",inplace=True,drop=True)"
   ]
  },
  {
   "cell_type": "code",
   "execution_count": 551,
   "metadata": {},
   "outputs": [],
   "source": [
    "covid_data.columns = pd.to_datetime(covid_data.columns)"
   ]
  },
  {
   "cell_type": "code",
   "execution_count": 552,
   "metadata": {},
   "outputs": [],
   "source": [
    "#location = covid_data.location.unique()\n",
    "#location"
   ]
  },
  {
   "cell_type": "code",
   "execution_count": null,
   "metadata": {},
   "outputs": [],
   "source": [
    "\n"
   ]
  },
  {
   "cell_type": "code",
   "execution_count": 553,
   "metadata": {},
   "outputs": [],
   "source": [
    "#covid_data = covid_data.set_index(fechas)"
   ]
  },
  {
   "cell_type": "code",
   "execution_count": 554,
   "metadata": {},
   "outputs": [],
   "source": [
    "#covid_data.drop(columns=[\"date\"],inplace=True)"
   ]
  },
  {
   "cell_type": "code",
   "execution_count": null,
   "metadata": {},
   "outputs": [],
   "source": []
  },
  {
   "cell_type": "markdown",
   "metadata": {},
   "source": [
    "## Viendo que las curvas para determinados paises evolucionaban de distintas formas decidimos intentar clusterizar los distintos tipos de curva"
   ]
  },
  {
   "cell_type": "code",
   "execution_count": 555,
   "metadata": {},
   "outputs": [
    {
     "name": "stdout",
     "output_type": "stream",
     "text": [
      "COVID-19 deaths vs time curves\n",
      "54512863744.725 --> 34639714504.580 --> 34446738560.545 --> 34299317829.572 --> 34299317829.572 --> \n",
      "green cluster, N = 10\n",
      "red cluster, N = 2\n",
      "blue cluster, N = 161\n"
     ]
    },
    {
     "data": {
      "image/png": "[encoded data removed]",
      "text/plain": [
       "<Figure size 360x576 with 3 Axes>"
      ]
     },
     "metadata": {
      "needs_background": "light"
     },
     "output_type": "display_data"
    }
   ],
   "source": [
    "from tslearn.utils import to_time_series_dataset\n",
    "cluster = 3\n",
    "df = covid_data.iloc[35:,:]\n",
    "X_train = df.rolling(7, axis=1, min_periods=1).mean().fillna(0)\n",
    "colors = ['blue', 'red', 'green']\n",
    "names = ['blue cluster','red cluster','green cluster']\n",
    "seed = 1\n",
    "np.random.seed(seed)\n",
    "X_train = to_time_series_dataset(X_train.copy())\n",
    "\n",
    "print('COVID-19 deaths vs time curves')\n",
    "km = TimeSeriesKMeans(n_clusters=cluster, verbose=1, random_state=seed,\n",
    "                         max_iter=100)\n",
    "\n",
    "y_pred = km.fit_predict(X_train)\n",
    "index=df.index\n",
    "clusters = pd.Series(data=y_pred, index=index)\n",
    "\n",
    "f, (ax1, ax2, ax3) = plt.subplots(3, sharex=True, sharey=True,figsize=(5, 8))\n",
    "\n",
    "for yi,cl,xs in zip(range(cluster),[2,1,0],[ax1,ax2,ax3]):\n",
    "    data = df.rolling(7,axis=1, min_periods=1).mean().fillna(0).loc[clusters[clusters == cl].index]\n",
    "    data.T.plot(legend=False, alpha=.2,color='black', ax=xs)\n",
    "    data.mean(axis=0).plot(linewidth=3., color=colors[cl], ax=xs)\n",
    "    n = len(data)\n",
    "    print('{}, N = {}'.format(names[cl], n))\n",
    "\n",
    "ax1.spines['top'].set_visible(False)\n",
    "ax1.spines['right'].set_visible(False)\n",
    "ax2.spines['right'].set_visible(False)\n",
    "ax3.spines['right'].set_visible(False)\n",
    "f.subplots_adjust(hspace=0)\n",
    "plt.ylim()\n",
    "#-0.02, 3.5\n",
    "plt.setp([a.get_xticklabels() for a in f.axes[:-1]], visible=False)"
   ]
  },
  {
   "cell_type": "code",
   "execution_count": 556,
   "metadata": {},
   "outputs": [
    {
     "data": {
      "text/plain": [
       "Pais\n",
       "Central African Republic    0\n",
       "Chad                        0\n",
       "Chile                       0\n",
       "China                       0\n",
       "Colombia                    2\n",
       "                           ..\n",
       "Venezuela                   0\n",
       "Vietnam                     0\n",
       "Yemen                       0\n",
       "Zambia                      0\n",
       "Zimbabwe                    0\n",
       "Length: 173, dtype: int64"
      ]
     },
     "execution_count": 556,
     "metadata": {},
     "output_type": "execute_result"
    }
   ],
   "source": [
    "clusters"
   ]
  },
  {
   "cell_type": "code",
   "execution_count": 557,
   "metadata": {},
   "outputs": [],
   "source": [
    "coord = pd.read_csv(\"coord.csv\",delimiter=\",\")"
   ]
  },
  {
   "cell_type": "code",
   "execution_count": 558,
   "metadata": {},
   "outputs": [
    {
     "data": {
      "text/html": [
       "<div>\n",
       "<style scoped>\n",
       "    .dataframe tbody tr th:only-of-type {\n",
       "        vertical-align: middle;\n",
       "    }\n",
       "\n",
       "    .dataframe tbody tr th {\n",
       "        vertical-align: top;\n",
       "    }\n",
       "\n",
       "    .dataframe thead th {\n",
       "        text-align: right;\n",
       "    }\n",
       "</style>\n",
       "<table border=\"1\" class=\"dataframe\">\n",
       "  <thead>\n",
       "    <tr style=\"text-align: right;\">\n",
       "      <th></th>\n",
       "      <th>Unnamed: 0</th>\n",
       "      <th>lat</th>\n",
       "      <th>long</th>\n",
       "      <th>json</th>\n",
       "    </tr>\n",
       "  </thead>\n",
       "  <tbody>\n",
       "    <tr>\n",
       "      <th>0</th>\n",
       "      <td>US</td>\n",
       "      <td>39.783730</td>\n",
       "      <td>-100.445882</td>\n",
       "      <td>{\\n  \"axes\": [\\n    {\\n      \"scale\": \"x\",\\n  ...</td>\n",
       "    </tr>\n",
       "    <tr>\n",
       "      <th>1</th>\n",
       "      <td>India</td>\n",
       "      <td>22.351115</td>\n",
       "      <td>78.667743</td>\n",
       "      <td>{\\n  \"axes\": [\\n    {\\n      \"scale\": \"x\",\\n  ...</td>\n",
       "    </tr>\n",
       "    <tr>\n",
       "      <th>2</th>\n",
       "      <td>Brazil</td>\n",
       "      <td>-10.333333</td>\n",
       "      <td>-53.200000</td>\n",
       "      <td>{\\n  \"axes\": [\\n    {\\n      \"scale\": \"x\",\\n  ...</td>\n",
       "    </tr>\n",
       "    <tr>\n",
       "      <th>3</th>\n",
       "      <td>Russia</td>\n",
       "      <td>64.686314</td>\n",
       "      <td>97.745306</td>\n",
       "      <td>{\\n  \"axes\": [\\n    {\\n      \"scale\": \"x\",\\n  ...</td>\n",
       "    </tr>\n",
       "    <tr>\n",
       "      <th>4</th>\n",
       "      <td>Peru</td>\n",
       "      <td>-6.869970</td>\n",
       "      <td>-75.045851</td>\n",
       "      <td>{\\n  \"axes\": [\\n    {\\n      \"scale\": \"x\",\\n  ...</td>\n",
       "    </tr>\n",
       "    <tr>\n",
       "      <th>...</th>\n",
       "      <td>...</td>\n",
       "      <td>...</td>\n",
       "      <td>...</td>\n",
       "      <td>...</td>\n",
       "    </tr>\n",
       "    <tr>\n",
       "      <th>178</th>\n",
       "      <td>Timor-Leste</td>\n",
       "      <td>-8.515198</td>\n",
       "      <td>125.837576</td>\n",
       "      <td>{\\n  \"axes\": [\\n    {\\n      \"scale\": \"x\",\\n  ...</td>\n",
       "    </tr>\n",
       "    <tr>\n",
       "      <th>179</th>\n",
       "      <td>Grenada</td>\n",
       "      <td>12.136037</td>\n",
       "      <td>-61.690405</td>\n",
       "      <td>{\\n  \"axes\": [\\n    {\\n      \"scale\": \"x\",\\n  ...</td>\n",
       "    </tr>\n",
       "    <tr>\n",
       "      <th>180</th>\n",
       "      <td>Dominica</td>\n",
       "      <td>19.097403</td>\n",
       "      <td>-70.302803</td>\n",
       "      <td>{\\n  \"axes\": [\\n    {\\n      \"scale\": \"x\",\\n  ...</td>\n",
       "    </tr>\n",
       "    <tr>\n",
       "      <th>181</th>\n",
       "      <td>Laos</td>\n",
       "      <td>20.017111</td>\n",
       "      <td>103.378253</td>\n",
       "      <td>{\\n  \"axes\": [\\n    {\\n      \"scale\": \"x\",\\n  ...</td>\n",
       "    </tr>\n",
       "    <tr>\n",
       "      <th>182</th>\n",
       "      <td>Saint Kitts and Nevis</td>\n",
       "      <td>17.250512</td>\n",
       "      <td>-62.672597</td>\n",
       "      <td>{\\n  \"axes\": [\\n    {\\n      \"scale\": \"x\",\\n  ...</td>\n",
       "    </tr>\n",
       "  </tbody>\n",
       "</table>\n",
       "<p>183 rows × 4 columns</p>\n",
       "</div>"
      ],
      "text/plain": [
       "                Unnamed: 0        lat        long  \\\n",
       "0                       US  39.783730 -100.445882   \n",
       "1                    India  22.351115   78.667743   \n",
       "2                   Brazil -10.333333  -53.200000   \n",
       "3                   Russia  64.686314   97.745306   \n",
       "4                     Peru  -6.869970  -75.045851   \n",
       "..                     ...        ...         ...   \n",
       "178            Timor-Leste  -8.515198  125.837576   \n",
       "179                Grenada  12.136037  -61.690405   \n",
       "180               Dominica  19.097403  -70.302803   \n",
       "181                   Laos  20.017111  103.378253   \n",
       "182  Saint Kitts and Nevis  17.250512  -62.672597   \n",
       "\n",
       "                                                  json  \n",
       "0    {\\n  \"axes\": [\\n    {\\n      \"scale\": \"x\",\\n  ...  \n",
       "1    {\\n  \"axes\": [\\n    {\\n      \"scale\": \"x\",\\n  ...  \n",
       "2    {\\n  \"axes\": [\\n    {\\n      \"scale\": \"x\",\\n  ...  \n",
       "3    {\\n  \"axes\": [\\n    {\\n      \"scale\": \"x\",\\n  ...  \n",
       "4    {\\n  \"axes\": [\\n    {\\n      \"scale\": \"x\",\\n  ...  \n",
       "..                                                 ...  \n",
       "178  {\\n  \"axes\": [\\n    {\\n      \"scale\": \"x\",\\n  ...  \n",
       "179  {\\n  \"axes\": [\\n    {\\n      \"scale\": \"x\",\\n  ...  \n",
       "180  {\\n  \"axes\": [\\n    {\\n      \"scale\": \"x\",\\n  ...  \n",
       "181  {\\n  \"axes\": [\\n    {\\n      \"scale\": \"x\",\\n  ...  \n",
       "182  {\\n  \"axes\": [\\n    {\\n      \"scale\": \"x\",\\n  ...  \n",
       "\n",
       "[183 rows x 4 columns]"
      ]
     },
     "execution_count": 558,
     "metadata": {},
     "output_type": "execute_result"
    }
   ],
   "source": [
    "coord\n",
    "# La idea era usar este dataset con coordenadas de cada pais representar cada cluster en un mapa para intentar sacar conclusiones geograficas de la evolucion de las curvas"
   ]
  }
 ],
 "metadata": {
  "kernelspec": {
   "display_name": "Python 3",
   "language": "python",
   "name": "python3"
  },
  "language_info": {
   "codemirror_mode": {
    "name": "ipython",
    "version": 3
   },
   "file_extension": ".py",
   "mimetype": "text/x-python",
   "name": "python",
   "nbconvert_exporter": "python",
   "pygments_lexer": "ipython3",
   "version": "3.7.9"
  }
 },
 "nbformat": 4,
 "nbformat_minor": 4
}
